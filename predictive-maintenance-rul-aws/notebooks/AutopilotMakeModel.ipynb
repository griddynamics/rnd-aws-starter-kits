{
  "cells": [
    {
      "cell_type": "markdown",
      "source": [
        "# Building a Predictive Maintenance Solution Using AWS AutoML and No-code Tools \n",
        "\n",
        "# Part 1. Creation, evaluation, and deployment of the model\n",
        "\n",
        "It is the first notebook of the two ones accompanying our blog-article with the above title. \n",
        "\n",
        "Here we show how it is possible to create and deploy a state-of-the-art ML-model for prediction of the Remaining Useful Life (RUL) without delving  into Machine Learning, Data Science, DevOps knowledge. The maior tool of this workflow is the <b> AWS SageMaker Autopilot </b> service."
      ],
      "metadata": {
        "id": "TaOTsF6zvij9"
      },
      "id": "TaOTsF6zvij9"
    },
    {
      "cell_type": "code",
      "execution_count": null,
      "id": "edbc8aef",
      "metadata": {
        "id": "edbc8aef"
      },
      "outputs": [],
      "source": [
        "# Import all the necessary modules\n",
        "import pandas as pd\n",
        "import sagemaker\n",
        "import boto3\n",
        "import time\n",
        "from datetime import datetime\n",
        "from sagemaker import AutoML\n",
        "import itertools\n",
        "import matplotlib.pyplot as plt\n",
        "from matplotlib.pyplot import figure"
      ]
    },
    {
      "cell_type": "markdown",
      "source": [
        "# Specify the path to the training data"
      ],
      "metadata": {
        "id": "rHYW8I9e07je"
      },
      "id": "rHYW8I9e07je"
    },
    {
      "cell_type": "code",
      "execution_count": null,
      "id": "56ad0960",
      "metadata": {
        "id": "56ad0960"
      },
      "outputs": [],
      "source": [
        "#  Specify the s3-path to the training data:\n",
        "DATA_LOCATION_S3_BUCKET = 's3://anomaly-detection-bucket-test/datasets/turbofan_nasa_data/turbofan_sensors-orig_train.csv' "
      ]
    },
    {
      "cell_type": "code",
      "execution_count": null,
      "id": "8928a5fb",
      "metadata": {
        "id": "8928a5fb",
        "outputId": "4f550d37-76ba-4681-d0f6-09645c1751bd"
      },
      "outputs": [
        {
          "data": {
            "text/html": [
              "<div>\n",
              "<style scoped>\n",
              "    .dataframe tbody tr th:only-of-type {\n",
              "        vertical-align: middle;\n",
              "    }\n",
              "\n",
              "    .dataframe tbody tr th {\n",
              "        vertical-align: top;\n",
              "    }\n",
              "\n",
              "    .dataframe thead th {\n",
              "        text-align: right;\n",
              "    }\n",
              "</style>\n",
              "<table border=\"1\" class=\"dataframe\">\n",
              "  <thead>\n",
              "    <tr style=\"text-align: right;\">\n",
              "      <th></th>\n",
              "      <th>time</th>\n",
              "      <th>rul</th>\n",
              "      <th>sensor_2</th>\n",
              "      <th>sensor_3</th>\n",
              "      <th>sensor_4</th>\n",
              "      <th>sensor_7</th>\n",
              "      <th>sensor_8</th>\n",
              "      <th>sensor_9</th>\n",
              "      <th>sensor_11</th>\n",
              "      <th>sensor_12</th>\n",
              "      <th>sensor_13</th>\n",
              "      <th>sensor_14</th>\n",
              "      <th>sensor_15</th>\n",
              "      <th>sensor_17</th>\n",
              "      <th>sensor_20</th>\n",
              "      <th>sensor_21</th>\n",
              "    </tr>\n",
              "  </thead>\n",
              "  <tbody>\n",
              "    <tr>\n",
              "      <th>0</th>\n",
              "      <td>1</td>\n",
              "      <td>150</td>\n",
              "      <td>641.82</td>\n",
              "      <td>1589.70</td>\n",
              "      <td>1400.60</td>\n",
              "      <td>554.36</td>\n",
              "      <td>2388.06</td>\n",
              "      <td>9046.19</td>\n",
              "      <td>47.47</td>\n",
              "      <td>521.66</td>\n",
              "      <td>2388.02</td>\n",
              "      <td>8138.62</td>\n",
              "      <td>8.4195</td>\n",
              "      <td>392</td>\n",
              "      <td>39.06</td>\n",
              "      <td>23.4190</td>\n",
              "    </tr>\n",
              "    <tr>\n",
              "      <th>1</th>\n",
              "      <td>2</td>\n",
              "      <td>150</td>\n",
              "      <td>642.15</td>\n",
              "      <td>1591.82</td>\n",
              "      <td>1403.14</td>\n",
              "      <td>553.75</td>\n",
              "      <td>2388.04</td>\n",
              "      <td>9044.07</td>\n",
              "      <td>47.49</td>\n",
              "      <td>522.28</td>\n",
              "      <td>2388.07</td>\n",
              "      <td>8131.49</td>\n",
              "      <td>8.4318</td>\n",
              "      <td>392</td>\n",
              "      <td>39.00</td>\n",
              "      <td>23.4236</td>\n",
              "    </tr>\n",
              "    <tr>\n",
              "      <th>2</th>\n",
              "      <td>3</td>\n",
              "      <td>150</td>\n",
              "      <td>642.35</td>\n",
              "      <td>1587.99</td>\n",
              "      <td>1404.20</td>\n",
              "      <td>554.26</td>\n",
              "      <td>2388.08</td>\n",
              "      <td>9052.94</td>\n",
              "      <td>47.27</td>\n",
              "      <td>522.42</td>\n",
              "      <td>2388.03</td>\n",
              "      <td>8133.23</td>\n",
              "      <td>8.4178</td>\n",
              "      <td>390</td>\n",
              "      <td>38.95</td>\n",
              "      <td>23.3442</td>\n",
              "    </tr>\n",
              "    <tr>\n",
              "      <th>3</th>\n",
              "      <td>4</td>\n",
              "      <td>150</td>\n",
              "      <td>642.35</td>\n",
              "      <td>1582.79</td>\n",
              "      <td>1401.87</td>\n",
              "      <td>554.45</td>\n",
              "      <td>2388.11</td>\n",
              "      <td>9049.48</td>\n",
              "      <td>47.13</td>\n",
              "      <td>522.86</td>\n",
              "      <td>2388.08</td>\n",
              "      <td>8133.83</td>\n",
              "      <td>8.3682</td>\n",
              "      <td>392</td>\n",
              "      <td>38.88</td>\n",
              "      <td>23.3739</td>\n",
              "    </tr>\n",
              "    <tr>\n",
              "      <th>4</th>\n",
              "      <td>5</td>\n",
              "      <td>150</td>\n",
              "      <td>642.37</td>\n",
              "      <td>1582.85</td>\n",
              "      <td>1406.22</td>\n",
              "      <td>554.00</td>\n",
              "      <td>2388.06</td>\n",
              "      <td>9055.15</td>\n",
              "      <td>47.28</td>\n",
              "      <td>522.19</td>\n",
              "      <td>2388.04</td>\n",
              "      <td>8133.80</td>\n",
              "      <td>8.4294</td>\n",
              "      <td>393</td>\n",
              "      <td>38.90</td>\n",
              "      <td>23.4044</td>\n",
              "    </tr>\n",
              "  </tbody>\n",
              "</table>\n",
              "</div>"
            ],
            "text/plain": [
              "   time  rul  sensor_2  sensor_3  sensor_4  sensor_7  sensor_8  sensor_9  \\\n",
              "0     1  150    641.82   1589.70   1400.60    554.36   2388.06   9046.19   \n",
              "1     2  150    642.15   1591.82   1403.14    553.75   2388.04   9044.07   \n",
              "2     3  150    642.35   1587.99   1404.20    554.26   2388.08   9052.94   \n",
              "3     4  150    642.35   1582.79   1401.87    554.45   2388.11   9049.48   \n",
              "4     5  150    642.37   1582.85   1406.22    554.00   2388.06   9055.15   \n",
              "\n",
              "   sensor_11  sensor_12  sensor_13  sensor_14  sensor_15  sensor_17  \\\n",
              "0      47.47     521.66    2388.02    8138.62     8.4195        392   \n",
              "1      47.49     522.28    2388.07    8131.49     8.4318        392   \n",
              "2      47.27     522.42    2388.03    8133.23     8.4178        390   \n",
              "3      47.13     522.86    2388.08    8133.83     8.3682        392   \n",
              "4      47.28     522.19    2388.04    8133.80     8.4294        393   \n",
              "\n",
              "   sensor_20  sensor_21  \n",
              "0      39.06    23.4190  \n",
              "1      39.00    23.4236  \n",
              "2      38.95    23.3442  \n",
              "3      38.88    23.3739  \n",
              "4      38.90    23.4044  "
            ]
          },
          "execution_count": 3,
          "metadata": {},
          "output_type": "execute_result"
        }
      ],
      "source": [
        "# Data frame that contains only the features we are going to use.\n",
        "train_data = pd.read_csv(DATA_LOCATION_S3_BUCKET)\n",
        "train_data.head()"
      ]
    },
    {
      "cell_type": "markdown",
      "id": "1de695ac",
      "metadata": {
        "id": "1de695ac"
      },
      "source": [
        "# Running an AutoPilot Experiment\n",
        "\n",
        "The goal of this stage is to obtain an optimized trained model using our training dataset. All the work is performed under the hood of <b>AWS SageMaker Autopilot</b>: creation of many various models, their training, optimization of hyperparameters, and the choice of the best model. All these huge piece of work is performed <b> without any intervention of the user</b>."
      ]
    },
    {
      "cell_type": "code",
      "execution_count": null,
      "id": "7084cd3e",
      "metadata": {
        "id": "7084cd3e"
      },
      "outputs": [],
      "source": [
        "# Here we define some crucial parameters for running an AutoPilot experiment.\n",
        "\n",
        "AUTO_ML_JOB_NAME = 'test-notebook-experiment-sm05'  # name of the experiment - should be unique\n",
        "S3_OUTPUT_PATH = 's3://anomaly-detection-bucket-test/datasets/turbofan_nasa_data/'  # directory, where the artifacts will be stored in S3\n",
        "ENDPOINT_NAME = 'test-notebook-autopilot-experiment-endpoint' # name of real time endpoint for serving the model\n",
        "MAX_NUMBER_OF_CANDIDATES = 10  # number of candidates for hyperparameter tuning, usully has to be set to bigger number \n",
        "\n",
        "EXECUTION_ROLE = sagemaker.get_execution_role() \n",
        "SESSION = sagemaker.Session()"
      ]
    },
    {
      "cell_type": "code",
      "execution_count": null,
      "id": "de1fb231",
      "metadata": {
        "id": "de1fb231"
      },
      "outputs": [],
      "source": [
        "# Just a helper function that helps to monitor the status of the experiment\n",
        "\n",
        "def monitor_the_job_status(auto_ml_job_name, interval_update=20):\n",
        "    \"\"\"\n",
        "    auto_ml_job_name: the job we want to monitor\n",
        "    interval_update: in seconds, how frequent we want to make requests\n",
        "    \"\"\"\n",
        "    client = boto3.client('sagemaker')\n",
        "    response = client.describe_auto_ml_job(AutoMLJobName=auto_ml_job_name)\n",
        "    job_status = 'InProgress'\n",
        "    while job_status == 'InProgress':\n",
        "        response = client.describe_auto_ml_job(AutoMLJobName=auto_ml_job_name)\n",
        "        job_status = response['AutoMLJobStatus']\n",
        "        secondary_job_status = response['AutoMLJobSecondaryStatus']\n",
        "        time_now = datetime.now().strftime('%H:%M:%S')\n",
        "        print(f\"Job status: {job_status}; Secondary job status: {secondary_job_status} -- {time_now}\")\n",
        "        time.sleep(interval_update)\n",
        "    final_status = response['AutoMLJobStatus']\n",
        "    final_secondary_job_status = response['AutoMLJobSecondaryStatus']\n",
        "    time_now = datetime.now().strftime('%H:%M:%S')\n",
        "    print(f\"Final Job status: {final_status}; Final Secondary job status: {final_secondary_job_status} -- {time_now}\")"
      ]
    },
    {
      "cell_type": "code",
      "execution_count": null,
      "id": "3a83e362",
      "metadata": {
        "id": "3a83e362",
        "outputId": "75f324bc-1a95-4c11-e031-7544312c2173"
      },
      "outputs": [
        {
          "name": "stdout",
          "output_type": "stream",
          "text": [
            ".................................................................................................................................................................."
          ]
        }
      ],
      "source": [
        "# We use sagemaker Python API to create AutoPilot job. First, we need to fit the model. \n",
        "# We indicte the number of candidates (basically the combination of models and relevant hyperparameters), so we can select the best model for further deployment.\n",
        "\n",
        "from sagemaker import AutoML\n",
        "\n",
        "automl = AutoML(role=EXECUTION_ROLE, \n",
        "                target_attribute_name='rul',  # the target variable we want to predict\n",
        "                base_job_name=AUTO_ML_JOB_NAME,\n",
        "                sagemaker_session=SESSION,\n",
        "                max_candidates=MAX_NUMBER_OF_CANDIDATES,\n",
        "                problem_type='Regression',\n",
        "                job_objective={'MetricName': 'MSE'} # here we have to indicate the problem type, otherwise AutoPilot confuses the problem \n",
        "                                                    # with multiclass classification problem\n",
        "                )                          \n",
        "\n",
        "automl.fit(inputs=DATA_LOCATION_S3_BUCKET, job_name=AUTO_ML_JOB_NAME, wait=True, logs=True) # wait and logs is True in order to get the progress bar of dots that we\n",
        "                                                                                            # can observe below"
      ]
    },
    {
      "cell_type": "code",
      "execution_count": null,
      "id": "427c565b",
      "metadata": {
        "id": "427c565b",
        "outputId": "23c5ea04-21a9-41e1-8ffd-a35394cb214b"
      },
      "outputs": [
        {
          "name": "stdout",
          "output_type": "stream",
          "text": [
            "Job status: InProgress; Secondary job status: MergingAutoMLTaskReports -- 21:33:16\n",
            "Job status: InProgress; Secondary job status: MergingAutoMLTaskReports -- 21:33:46\n",
            "Job status: InProgress; Secondary job status: MergingAutoMLTaskReports -- 21:34:16\n",
            "Job status: InProgress; Secondary job status: MergingAutoMLTaskReports -- 21:34:46\n",
            "Job status: Completed; Secondary job status: Completed -- 21:35:16\n",
            "Final Job status: Completed; Final Secondary job status: Completed -- 21:35:46\n"
          ]
        }
      ],
      "source": [
        "# in case, we want more verbose log output, we set wait and logs to False, and just call this function\n",
        "monitor_the_job_status(auto_ml_job_name=AUTO_ML_JOB_NAME, interval_update=30)"
      ]
    },
    {
      "cell_type": "markdown",
      "id": "64e9c7b2",
      "metadata": {
        "id": "64e9c7b2"
      },
      "source": [
        "One of the artifacts that comes out of AutoPilot experiment is the set of models. Model is pretrained algorithm, with adjusted hyperparameters. We can select the best candidate that gives us the optimum metric (that we selected before). Best model will be used later for batch prediction inference mode.\n",
        "\n",
        "Here, for the sake of simplicity, we do not choose a model, but we simply use the best one having a minimal RMSE value."
      ]
    },
    {
      "cell_type": "markdown",
      "source": [
        "# Evaluation of the model\n",
        "\n",
        "Here we obtain several basic metrics describing the quality of the model. \n",
        "\n",
        "We also get a reference to the PDF-file with the results of the feature importance analysis."
      ],
      "metadata": {
        "id": "W8veCmSf_J_C"
      },
      "id": "W8veCmSf_J_C"
    },
    {
      "cell_type": "code",
      "execution_count": null,
      "metadata": {
        "id": "13a9d603"
      },
      "outputs": [],
      "source": [
        "# Get the best model\n",
        "automl = AutoML.attach(auto_ml_job_name=AUTO_ML_JOB_NAME)\n",
        "best_candidate = automl.best_candidate(job_name=AUTO_ML_JOB_NAME) # select the best candidate for deployment"
      ],
      "id": "13a9d603"
    },
    {
      "cell_type": "code",
      "execution_count": null,
      "metadata": {
        "outputId": "c022795c-0628-4df1-e799-1f833b2aeee4",
        "id": "zzAFrwAAAuzQ"
      },
      "outputs": [
        {
          "data": {
            "text/plain": [
              "[{'MetricName': 'MSE', 'Value': 466.4531555175781, 'Set': 'Validation'},\n",
              " {'MetricName': 'MAE', 'Value': 16.749845504760742, 'Set': 'Validation'},\n",
              " {'MetricName': 'R2', 'Value': 0.8132867217063904, 'Set': 'Validation'},\n",
              " {'MetricName': 'RMSE', 'Value': 21.596208572387695, 'Set': 'Validation'}]"
            ]
          },
          "execution_count": 16,
          "metadata": {},
          "output_type": "execute_result"
        }
      ],
      "source": [
        "# We can check the performance of the model by exploring best candidate properties\n",
        "best_candidate['CandidateProperties']['CandidateMetrics'] "
      ],
      "id": "zzAFrwAAAuzQ"
    },
    {
      "cell_type": "code",
      "execution_count": null,
      "metadata": {
        "id": "120cc99b",
        "outputId": "b1a38ec0-b2e3-4f30-8949-7820fb5cd30b"
      },
      "outputs": [
        {
          "data": {
            "text/plain": [
              "{'Explainability': 's3://sagemaker-us-east-1-283824160429/test-notebook-experiment-sm05/documentation/explainability/output',\n",
              " 'ModelInsights': 's3://sagemaker-us-east-1-283824160429/test-notebook-experiment-sm05/documentation/model_monitor/output'}"
            ]
          },
          "execution_count": 18,
          "metadata": {},
          "output_type": "execute_result"
        }
      ],
      "source": [
        "# We may look for pieces of other relevant information on evaluation of the model,\n",
        "# for example, the path to the PDF-file with a feature importance report\n",
        "# (see the \"Explainability\" section in the output)\n",
        "best_candidate['CandidateProperties']['CandidateArtifactLocations']"
      ],
      "id": "120cc99b"
    },
    {
      "cell_type": "markdown",
      "id": "87a0dc55",
      "metadata": {
        "id": "87a0dc55"
      },
      "source": [
        "# Deployment\n",
        "The ultimate goal of this stage is to create  an endpoint for our trained model.\n",
        "Then, we may use this endpoint for real-time online predictions."
      ]
    },
    {
      "cell_type": "code",
      "execution_count": null,
      "id": "40e98357",
      "metadata": {
        "id": "40e98357",
        "outputId": "755838d5-3fab-4ff0-bf25-a0774265a27e"
      },
      "outputs": [
        {
          "name": "stdout",
          "output_type": "stream",
          "text": [
            "---------------!"
          ]
        }
      ],
      "source": [
        "# Deployment - create endpoint. Here we specify the real time enpoint name. With sagemaker API we have to make deployment as the separate step. \n",
        "# Once it is deployed, endpoint is ready to use.\n",
        "\n",
        "automl.deploy(initial_instance_count=1, # how many machines are required for serving\n",
        "              instance_type='ml.m5.2xlarge', # machine type\n",
        "              serializer=None, # default to predictor class - in out case to whatever best candidate is\n",
        "              deserializer=None, \n",
        "              candidate=None,  # if None, best candidate is used for deployment\n",
        "              sagemaker_session=SESSION,\n",
        "              endpoint_name=ENDPOINT_NAME, \n",
        "              wait=True) # just for verbosity, in order to see the progress bar below (deployment status)"
      ]
    },
    {
      "cell_type": "markdown",
      "id": "1fbf9b6b",
      "metadata": {
        "id": "1fbf9b6b"
      },
      "source": [
        "# Testing our endpoint"
      ]
    },
    {
      "cell_type": "markdown",
      "id": "259ae01a",
      "metadata": {
        "id": "259ae01a"
      },
      "source": [
        "In our experiments we used following engine id's for test purposes: 7, 10, 23, 24, 32, 40, 43, 77, 88, 89. They were obtained by a random split. These 10 engines have not been used to train the model.\n",
        "\n",
        "Here, to test the endpoint, we generate predictions of RUL for engines from the test dataset using our newly created endpoint. \n",
        "\n",
        "We also plot the predicted RUL-values against the true ones. It is a graphical tool for additional evaluation of the model, a kind of a \"sanity check\"."
      ]
    },
    {
      "cell_type": "code",
      "source": [],
      "metadata": {
        "id": "waTpvwEmymV3"
      },
      "id": "waTpvwEmymV3",
      "execution_count": null,
      "outputs": []
    },
    {
      "cell_type": "code",
      "execution_count": null,
      "id": "48ce8c24",
      "metadata": {
        "id": "48ce8c24"
      },
      "outputs": [],
      "source": [
        "predictor = sagemaker.predictor.Predictor(endpoint_name=ENDPOINT_NAME,\n",
        "                                          sagemaker_session=sagemaker.Session(),\n",
        "                                          serializer=sagemaker.serializers.CSVSerializer(),\n",
        "                                          deserializer=sagemaker.deserializers.CSVDeserializer())"
      ]
    },
    {
      "cell_type": "code",
      "execution_count": null,
      "id": "5229a53e",
      "metadata": {
        "id": "5229a53e"
      },
      "outputs": [],
      "source": [
        "DATA_FOR_TEST = \"s3://anomaly-detection-bucket-test/datasets/turbofan_nasa_data/turbofan_sensors-orig_all_test.csv\""
      ]
    },
    {
      "cell_type": "code",
      "execution_count": null,
      "id": "049ca1d1",
      "metadata": {
        "id": "049ca1d1",
        "outputId": "f79e55ab-b329-43bb-a0cc-0b5f7f5f4416"
      },
      "outputs": [
        {
          "data": {
            "text/html": [
              "<div>\n",
              "<style scoped>\n",
              "    .dataframe tbody tr th:only-of-type {\n",
              "        vertical-align: middle;\n",
              "    }\n",
              "\n",
              "    .dataframe tbody tr th {\n",
              "        vertical-align: top;\n",
              "    }\n",
              "\n",
              "    .dataframe thead th {\n",
              "        text-align: right;\n",
              "    }\n",
              "</style>\n",
              "<table border=\"1\" class=\"dataframe\">\n",
              "  <thead>\n",
              "    <tr style=\"text-align: right;\">\n",
              "      <th></th>\n",
              "      <th>engine_id</th>\n",
              "      <th>time</th>\n",
              "      <th>rul</th>\n",
              "      <th>sensor_2</th>\n",
              "      <th>sensor_3</th>\n",
              "      <th>sensor_4</th>\n",
              "      <th>sensor_7</th>\n",
              "      <th>sensor_8</th>\n",
              "      <th>sensor_9</th>\n",
              "      <th>sensor_11</th>\n",
              "      <th>sensor_12</th>\n",
              "      <th>sensor_13</th>\n",
              "      <th>sensor_14</th>\n",
              "      <th>sensor_15</th>\n",
              "      <th>sensor_17</th>\n",
              "      <th>sensor_20</th>\n",
              "      <th>sensor_21</th>\n",
              "    </tr>\n",
              "  </thead>\n",
              "  <tbody>\n",
              "    <tr>\n",
              "      <th>0</th>\n",
              "      <td>7</td>\n",
              "      <td>1</td>\n",
              "      <td>150</td>\n",
              "      <td>642.38</td>\n",
              "      <td>1589.49</td>\n",
              "      <td>1395.48</td>\n",
              "      <td>554.76</td>\n",
              "      <td>2387.97</td>\n",
              "      <td>9071.27</td>\n",
              "      <td>47.24</td>\n",
              "      <td>522.19</td>\n",
              "      <td>2387.99</td>\n",
              "      <td>8141.69</td>\n",
              "      <td>8.4081</td>\n",
              "      <td>390</td>\n",
              "      <td>38.97</td>\n",
              "      <td>23.4073</td>\n",
              "    </tr>\n",
              "    <tr>\n",
              "      <th>1</th>\n",
              "      <td>7</td>\n",
              "      <td>2</td>\n",
              "      <td>150</td>\n",
              "      <td>642.57</td>\n",
              "      <td>1583.11</td>\n",
              "      <td>1395.97</td>\n",
              "      <td>553.97</td>\n",
              "      <td>2388.00</td>\n",
              "      <td>9078.21</td>\n",
              "      <td>47.00</td>\n",
              "      <td>522.30</td>\n",
              "      <td>2388.02</td>\n",
              "      <td>8148.24</td>\n",
              "      <td>8.4216</td>\n",
              "      <td>391</td>\n",
              "      <td>38.85</td>\n",
              "      <td>23.5043</td>\n",
              "    </tr>\n",
              "    <tr>\n",
              "      <th>2</th>\n",
              "      <td>7</td>\n",
              "      <td>3</td>\n",
              "      <td>150</td>\n",
              "      <td>642.25</td>\n",
              "      <td>1589.44</td>\n",
              "      <td>1397.74</td>\n",
              "      <td>554.95</td>\n",
              "      <td>2387.95</td>\n",
              "      <td>9063.37</td>\n",
              "      <td>47.18</td>\n",
              "      <td>522.36</td>\n",
              "      <td>2387.98</td>\n",
              "      <td>8148.83</td>\n",
              "      <td>8.4258</td>\n",
              "      <td>392</td>\n",
              "      <td>39.07</td>\n",
              "      <td>23.4113</td>\n",
              "    </tr>\n",
              "    <tr>\n",
              "      <th>3</th>\n",
              "      <td>7</td>\n",
              "      <td>4</td>\n",
              "      <td>150</td>\n",
              "      <td>642.31</td>\n",
              "      <td>1585.59</td>\n",
              "      <td>1397.85</td>\n",
              "      <td>553.30</td>\n",
              "      <td>2388.06</td>\n",
              "      <td>9068.16</td>\n",
              "      <td>47.07</td>\n",
              "      <td>522.09</td>\n",
              "      <td>2388.06</td>\n",
              "      <td>8150.30</td>\n",
              "      <td>8.4175</td>\n",
              "      <td>392</td>\n",
              "      <td>39.12</td>\n",
              "      <td>23.4616</td>\n",
              "    </tr>\n",
              "    <tr>\n",
              "      <th>4</th>\n",
              "      <td>7</td>\n",
              "      <td>5</td>\n",
              "      <td>150</td>\n",
              "      <td>642.25</td>\n",
              "      <td>1587.23</td>\n",
              "      <td>1402.54</td>\n",
              "      <td>554.64</td>\n",
              "      <td>2388.04</td>\n",
              "      <td>9066.99</td>\n",
              "      <td>47.31</td>\n",
              "      <td>522.00</td>\n",
              "      <td>2388.01</td>\n",
              "      <td>8149.40</td>\n",
              "      <td>8.4099</td>\n",
              "      <td>391</td>\n",
              "      <td>38.94</td>\n",
              "      <td>23.4781</td>\n",
              "    </tr>\n",
              "  </tbody>\n",
              "</table>\n",
              "</div>"
            ],
            "text/plain": [
              "   engine_id  time  rul  sensor_2  sensor_3  sensor_4  sensor_7  sensor_8  \\\n",
              "0          7     1  150    642.38   1589.49   1395.48    554.76   2387.97   \n",
              "1          7     2  150    642.57   1583.11   1395.97    553.97   2388.00   \n",
              "2          7     3  150    642.25   1589.44   1397.74    554.95   2387.95   \n",
              "3          7     4  150    642.31   1585.59   1397.85    553.30   2388.06   \n",
              "4          7     5  150    642.25   1587.23   1402.54    554.64   2388.04   \n",
              "\n",
              "   sensor_9  sensor_11  sensor_12  sensor_13  sensor_14  sensor_15  sensor_17  \\\n",
              "0   9071.27      47.24     522.19    2387.99    8141.69     8.4081        390   \n",
              "1   9078.21      47.00     522.30    2388.02    8148.24     8.4216        391   \n",
              "2   9063.37      47.18     522.36    2387.98    8148.83     8.4258        392   \n",
              "3   9068.16      47.07     522.09    2388.06    8150.30     8.4175        392   \n",
              "4   9066.99      47.31     522.00    2388.01    8149.40     8.4099        391   \n",
              "\n",
              "   sensor_20  sensor_21  \n",
              "0      38.97    23.4073  \n",
              "1      38.85    23.5043  \n",
              "2      39.07    23.4113  \n",
              "3      39.12    23.4616  \n",
              "4      38.94    23.4781  "
            ]
          },
          "execution_count": 33,
          "metadata": {},
          "output_type": "execute_result"
        }
      ],
      "source": [
        "test_data = pd.read_csv(DATA_FOR_TEST)\n",
        "test_data.head()"
      ]
    },
    {
      "cell_type": "code",
      "execution_count": null,
      "id": "92397566",
      "metadata": {
        "id": "92397566",
        "outputId": "2594fce4-68f1-4577-8547-74de83445a2c"
      },
      "outputs": [
        {
          "data": {
            "text/plain": [
              "array([ 7, 10, 23, 24, 32, 40, 43, 77, 88, 89])"
            ]
          },
          "execution_count": 34,
          "metadata": {},
          "output_type": "execute_result"
        }
      ],
      "source": [
        "#  Print the values of \"engine_id\" for the engines\n",
        "#  included into the test dataset\n",
        "test_data['engine_id'].unique()"
      ]
    },
    {
      "cell_type": "code",
      "execution_count": null,
      "id": "315f5f1f",
      "metadata": {
        "id": "315f5f1f"
      },
      "outputs": [],
      "source": [
        "# Here we have helper functions \n",
        "\n",
        "\n",
        "def prepare_dataset_test(dataset_directory, engine_id=None):\n",
        "    \"\"\"\n",
        "    test engine id are in [7, 10, 23, 24, 32, 40, 43, 77, 88, 89]\n",
        "    \"\"\"\n",
        "    data_for_prediction = pd.read_csv(dataset_directory)\n",
        "         \n",
        "    if engine_id in [7, 10, 23, 24, 32, 40, 43, 77, 88, 89]:\n",
        "        data_for_prediction = data_for_prediction[data_for_prediction['engine_id'] == engine_id]\n",
        "        \n",
        "        ruls = data_for_prediction['rul'].values\n",
        "        data_for_prediction.drop(columns=['engine_id', 'rul'], inplace=True)\n",
        "    \n",
        "        return data_for_prediction, ruls\n",
        "    else:\n",
        "        print(\"Please specify the engine_id to be in the list [7, 10, 23, 24, 32, 40, 43, 77, 88, 89]\")\n",
        "        return\n",
        "\n",
        "\n",
        "def produce_plot(engine_id, data_for_test, ruls, predicted_ruls):\n",
        "    \"\"\"\n",
        "    The function just to produce plots\n",
        "    \"\"\"\n",
        "    time = data_for_test['time'].values\n",
        "\n",
        "    plt.rc('axes', titlesize=30)     # fontsize of the axes title\n",
        "    plt.rc('axes', labelsize=30)    # fontsize of the x and y labels\n",
        "    plt.rc('xtick', labelsize=30)    # fontsize of the tick labels\n",
        "    plt.rc('ytick', labelsize=30)    # fontsize of the tick labels\n",
        "    plt.rc('legend', fontsize=30)   # fontsize of the legend\n",
        "    \n",
        "    figure(figsize=(24, 12))\n",
        "    plt.plot(time, ruls, label = \"True RUL\")\n",
        "    plt.plot(time, predicted_ruls, label = \"Predicted RUL\")\n",
        "    plt.legend()\n",
        "    plt.title(f\"Engine id: {engine_id}\")\n",
        "    plt.xlabel('Time')\n",
        "    plt.ylabel('Remaining Usefull Life')\n",
        "\n",
        "    plt.show()"
      ]
    },
    {
      "cell_type": "code",
      "execution_count": null,
      "id": "c517994f",
      "metadata": {
        "id": "c517994f",
        "outputId": "51d4c5a5-6151-41ff-9e65-97bd83fb86fa"
      },
      "outputs": [
        {
          "data": {
            "image/png": "[encoded data removed]",
            "text/plain": [
              "<Figure size 1728x864 with 1 Axes>"
            ]
          },
          "metadata": {
            "needs_background": "light"
          },
          "output_type": "display_data"
        }
      ],
      "source": [
        "# Here we visualize our data: \n",
        "# we plot the predictions of our model against the true RUL-values.\n",
        "# This type of visualization allows us to perform additional evaluation\n",
        "# of the model, a kind of a \"sanity check\".\n",
        "\n",
        "ENGINE_ID = 23\n",
        "data_for_prediction, ruls = prepare_dataset_test(dataset_directory=DATA_FOR_TEST, engine_id=ENGINE_ID)\n",
        "\n",
        "if data_for_prediction is not None:\n",
        "\n",
        "    # now we are making predictions and format them\n",
        "    predictions = predictor.predict(data=data_for_prediction.values)\n",
        "    predictions = list(itertools.chain.from_iterable(predictions))\n",
        "    predictions = list(map(lambda x: float(x), predictions))\n",
        "\n",
        "    # data_for_prediction['predicted_rul'] = predictions\n",
        "    produce_plot(engine_id=ENGINE_ID, data_for_test=data_for_prediction, ruls=ruls, predicted_ruls=predictions)"
      ]
    },
    {
      "cell_type": "code",
      "execution_count": null,
      "id": "89617813",
      "metadata": {
        "id": "89617813"
      },
      "outputs": [],
      "source": []
    }
  ],
  "metadata": {
    "kernelspec": {
      "display_name": "conda_python3",
      "language": "python",
      "name": "conda_python3"
    },
    "language_info": {
      "codemirror_mode": {
        "name": "ipython",
        "version": 3
      },
      "file_extension": ".py",
      "mimetype": "text/x-python",
      "name": "python",
      "nbconvert_exporter": "python",
      "pygments_lexer": "ipython3",
      "version": "3.8.12"
    },
    "colab": {
      "provenance": [],
      "collapsed_sections": []
    }
  },
  "nbformat": 4,
  "nbformat_minor": 5
}